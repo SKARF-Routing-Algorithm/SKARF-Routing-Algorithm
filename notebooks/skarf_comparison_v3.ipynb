{
  "cells": [
    {
      "cell_type": "code",
      "execution_count": 1,
      "metadata": {
        "id": "EhC0AaSs3rcY"
      },
      "outputs": [],
      "source": [
        "import pandas as pd\n",
        "import matplotlib.pyplot as plt\n",
        "import matplotlib "
      ]
    },
    {
      "cell_type": "code",
      "execution_count": 28,
      "metadata": {
        "id": "bUsrCctb3w0S"
      },
      "outputs": [],
      "source": [
        "compare_df = pd.read_csv(\"../france/compare_france_100_10000.csv\", delimiter=';')"
      ]
    },
    {
      "cell_type": "code",
      "execution_count": 29,
      "metadata": {
        "colab": {
          "base_uri": "https://localhost:8080/",
          "height": 270
        },
        "id": "SkP5-ivC5S1C",
        "outputId": "71aa8e4f-e3e3-494c-e3a1-5e17ad80a94a"
      },
      "outputs": [
        {
          "data": {
            "text/html": [
              "<div>\n",
              "<style scoped>\n",
              "    .dataframe tbody tr th:only-of-type {\n",
              "        vertical-align: middle;\n",
              "    }\n",
              "\n",
              "    .dataframe tbody tr th {\n",
              "        vertical-align: top;\n",
              "    }\n",
              "\n",
              "    .dataframe thead th {\n",
              "        text-align: right;\n",
              "    }\n",
              "</style>\n",
              "<table border=\"1\" class=\"dataframe\">\n",
              "  <thead>\n",
              "    <tr style=\"text-align: right;\">\n",
              "      <th></th>\n",
              "      <th>source_id</th>\n",
              "      <th>target_id</th>\n",
              "      <th>source_cell</th>\n",
              "      <th>target_cell</th>\n",
              "      <th>arcflags_path_length</th>\n",
              "      <th>arcflags_visited</th>\n",
              "      <th>arcflags_relaxed</th>\n",
              "      <th>arcflags_querytime</th>\n",
              "      <th>bidirectional_arcflags_path_length</th>\n",
              "      <th>bidirectional_arcflags_visited</th>\n",
              "      <th>bidirectional_arcflags_relaxed</th>\n",
              "      <th>bidirectional_arcflags_querytime</th>\n",
              "      <th>skarf+_path_length</th>\n",
              "      <th>skarf+_visited</th>\n",
              "      <th>skarf+_relaxed</th>\n",
              "      <th>skarf+_querytime</th>\n",
              "      <th>bidirectional_skarf+_path_length</th>\n",
              "      <th>bidirectional_skarf+_visited</th>\n",
              "      <th>bidirectional_skarf+_relaxed</th>\n",
              "      <th>bidirectional_skarf+_querytime</th>\n",
              "    </tr>\n",
              "  </thead>\n",
              "  <tbody>\n",
              "    <tr>\n",
              "      <th>0</th>\n",
              "      <td>3374523</td>\n",
              "      <td>4519649</td>\n",
              "      <td>97</td>\n",
              "      <td>53</td>\n",
              "      <td>702</td>\n",
              "      <td>84473</td>\n",
              "      <td>34892</td>\n",
              "      <td>135707</td>\n",
              "      <td>702</td>\n",
              "      <td>2425</td>\n",
              "      <td>1157</td>\n",
              "      <td>15754</td>\n",
              "      <td>702</td>\n",
              "      <td>55507</td>\n",
              "      <td>24104</td>\n",
              "      <td>99479</td>\n",
              "      <td>702</td>\n",
              "      <td>1765</td>\n",
              "      <td>833</td>\n",
              "      <td>6862</td>\n",
              "    </tr>\n",
              "    <tr>\n",
              "      <th>1</th>\n",
              "      <td>689759</td>\n",
              "      <td>2636620</td>\n",
              "      <td>37</td>\n",
              "      <td>85</td>\n",
              "      <td>1421</td>\n",
              "      <td>64155</td>\n",
              "      <td>31923</td>\n",
              "      <td>121464</td>\n",
              "      <td>1421</td>\n",
              "      <td>2041</td>\n",
              "      <td>1421</td>\n",
              "      <td>6506</td>\n",
              "      <td>1421</td>\n",
              "      <td>53406</td>\n",
              "      <td>26071</td>\n",
              "      <td>107119</td>\n",
              "      <td>1421</td>\n",
              "      <td>2041</td>\n",
              "      <td>1421</td>\n",
              "      <td>6379</td>\n",
              "    </tr>\n",
              "    <tr>\n",
              "      <th>2</th>\n",
              "      <td>1910490</td>\n",
              "      <td>1634504</td>\n",
              "      <td>7</td>\n",
              "      <td>94</td>\n",
              "      <td>732</td>\n",
              "      <td>111637</td>\n",
              "      <td>47291</td>\n",
              "      <td>202487</td>\n",
              "      <td>732</td>\n",
              "      <td>7648</td>\n",
              "      <td>4719</td>\n",
              "      <td>20162</td>\n",
              "      <td>732</td>\n",
              "      <td>65742</td>\n",
              "      <td>28378</td>\n",
              "      <td>129179</td>\n",
              "      <td>732</td>\n",
              "      <td>3875</td>\n",
              "      <td>2582</td>\n",
              "      <td>11131</td>\n",
              "    </tr>\n",
              "    <tr>\n",
              "      <th>3</th>\n",
              "      <td>2402878</td>\n",
              "      <td>2029422</td>\n",
              "      <td>18</td>\n",
              "      <td>3</td>\n",
              "      <td>469</td>\n",
              "      <td>32161</td>\n",
              "      <td>14514</td>\n",
              "      <td>64866</td>\n",
              "      <td>469</td>\n",
              "      <td>6702</td>\n",
              "      <td>3640</td>\n",
              "      <td>17112</td>\n",
              "      <td>469</td>\n",
              "      <td>31186</td>\n",
              "      <td>14088</td>\n",
              "      <td>62851</td>\n",
              "      <td>469</td>\n",
              "      <td>5506</td>\n",
              "      <td>3003</td>\n",
              "      <td>13554</td>\n",
              "    </tr>\n",
              "    <tr>\n",
              "      <th>4</th>\n",
              "      <td>1146514</td>\n",
              "      <td>3416152</td>\n",
              "      <td>30</td>\n",
              "      <td>62</td>\n",
              "      <td>1292</td>\n",
              "      <td>69502</td>\n",
              "      <td>31801</td>\n",
              "      <td>123182</td>\n",
              "      <td>1292</td>\n",
              "      <td>1567</td>\n",
              "      <td>1292</td>\n",
              "      <td>6360</td>\n",
              "      <td>1292</td>\n",
              "      <td>41200</td>\n",
              "      <td>19053</td>\n",
              "      <td>79649</td>\n",
              "      <td>1292</td>\n",
              "      <td>1567</td>\n",
              "      <td>1292</td>\n",
              "      <td>6267</td>\n",
              "    </tr>\n",
              "  </tbody>\n",
              "</table>\n",
              "</div>"
            ],
            "text/plain": [
              "   source_id  target_id  source_cell  target_cell  arcflags_path_length  \\\n",
              "0    3374523    4519649           97           53                   702   \n",
              "1     689759    2636620           37           85                  1421   \n",
              "2    1910490    1634504            7           94                   732   \n",
              "3    2402878    2029422           18            3                   469   \n",
              "4    1146514    3416152           30           62                  1292   \n",
              "\n",
              "   arcflags_visited  arcflags_relaxed  arcflags_querytime  \\\n",
              "0             84473             34892              135707   \n",
              "1             64155             31923              121464   \n",
              "2            111637             47291              202487   \n",
              "3             32161             14514               64866   \n",
              "4             69502             31801              123182   \n",
              "\n",
              "   bidirectional_arcflags_path_length  bidirectional_arcflags_visited  \\\n",
              "0                                 702                            2425   \n",
              "1                                1421                            2041   \n",
              "2                                 732                            7648   \n",
              "3                                 469                            6702   \n",
              "4                                1292                            1567   \n",
              "\n",
              "   bidirectional_arcflags_relaxed  bidirectional_arcflags_querytime  \\\n",
              "0                            1157                             15754   \n",
              "1                            1421                              6506   \n",
              "2                            4719                             20162   \n",
              "3                            3640                             17112   \n",
              "4                            1292                              6360   \n",
              "\n",
              "   skarf+_path_length  skarf+_visited  skarf+_relaxed  skarf+_querytime  \\\n",
              "0                 702           55507           24104             99479   \n",
              "1                1421           53406           26071            107119   \n",
              "2                 732           65742           28378            129179   \n",
              "3                 469           31186           14088             62851   \n",
              "4                1292           41200           19053             79649   \n",
              "\n",
              "   bidirectional_skarf+_path_length  bidirectional_skarf+_visited  \\\n",
              "0                               702                          1765   \n",
              "1                              1421                          2041   \n",
              "2                               732                          3875   \n",
              "3                               469                          5506   \n",
              "4                              1292                          1567   \n",
              "\n",
              "   bidirectional_skarf+_relaxed  bidirectional_skarf+_querytime  \n",
              "0                           833                            6862  \n",
              "1                          1421                            6379  \n",
              "2                          2582                           11131  \n",
              "3                          3003                           13554  \n",
              "4                          1292                            6267  "
            ]
          },
          "execution_count": 29,
          "metadata": {},
          "output_type": "execute_result"
        }
      ],
      "source": [
        "compare_df.head()"
      ]
    },
    {
      "cell_type": "code",
      "execution_count": 30,
      "metadata": {
        "id": "XJVc3Jqa372y"
      },
      "outputs": [],
      "source": [
        "meanPathNodes = compare_df['arcflags_path_length'].mean()\n",
        "\n",
        "arcflagsVisited = compare_df['arcflags_visited'].mean()\n",
        "arcflagsRelaxed = compare_df['arcflags_relaxed'].mean()\n",
        "arcflagsQuerytime = compare_df['arcflags_querytime'].mean()\n",
        "\n",
        "bidirectionalArcflagsVisited = compare_df['bidirectional_arcflags_visited'].mean()\n",
        "bidirectionalArcflagsRelaxed = compare_df['bidirectional_arcflags_relaxed'].mean()\n",
        "bidirectionalArcflagsQuerytime = compare_df['bidirectional_arcflags_querytime'].mean()\n",
        "\n",
        "#skarfVisited = compare_df['skarf_visited'].mean()\n",
        "#skarfRelaxed = compare_df['skarf_relaxed'].mean()\n",
        "#skarfQuerytime = compare_df['skarf_querytime'].mean()\n",
        "\n",
        "#bidirectionalSkarfVisited = compare_df['bidirectional_skarf_visited'].mean()\n",
        "#bidirectionalSkarfRelaxed = compare_df['bidirectional_skarf_relaxed'].mean()\n",
        "#bidirectionalSkarfQuerytime = compare_df['bidirectional_skarf_querytime'].mean()\n",
        "\n",
        "skarfPlusVisited = compare_df['skarf+_visited'].mean()\n",
        "skarfPlusRelaxed = compare_df['skarf+_relaxed'].mean()\n",
        "skarfPlusQuerytime = compare_df['skarf+_querytime'].mean()\n",
        "\n",
        "bidirectionalSkarfPlusVisited = compare_df['bidirectional_skarf+_visited'].mean()\n",
        "bidirectionalSkarfPlusRelaxed = compare_df['bidirectional_skarf+_relaxed'].mean()\n",
        "bidirectionalSkarfPlusQuerytime = compare_df['bidirectional_skarf+_querytime'].mean()"
      ]
    },
    {
      "cell_type": "code",
      "execution_count": 31,
      "metadata": {
        "colab": {
          "base_uri": "https://localhost:8080/"
        },
        "id": "5eWysLAFiyLl",
        "outputId": "01c6854a-578e-48df-b851-c5a72ef5dd64"
      },
      "outputs": [
        {
          "name": "stdout",
          "output_type": "stream",
          "text": [
            "Avg path length\n",
            "832\n",
            "\n",
            "Arc-Flags\n",
            "98584\n",
            "43987\n",
            "220477\n",
            "\n",
            "SKARF+\n",
            "66305\n",
            "30163\n",
            "138816\n",
            "\n",
            "Bi. Arc-Flags\n",
            "8456\n",
            "4377\n",
            "20624\n",
            "\n",
            "Bi. SKARF+\n",
            "4209\n",
            "2309\n",
            "10876\n",
            "\n"
          ]
        }
      ],
      "source": [
        "print(\"Avg path length\")\n",
        "print(round(meanPathNodes))\n",
        "print()\n",
        "\n",
        "print(\"Arc-Flags\")\n",
        "print(round(arcflagsVisited))\n",
        "print(round(arcflagsRelaxed))\n",
        "print(round(arcflagsQuerytime))\n",
        "print()\n",
        "\n",
        "print(\"SKARF+\")\n",
        "print(round(skarfPlusVisited))\n",
        "print(round(skarfPlusRelaxed))\n",
        "print(round(skarfPlusQuerytime))\n",
        "print()\n",
        "\n",
        "print(\"Bi. Arc-Flags\")\n",
        "print(round(bidirectionalArcflagsVisited))\n",
        "print(round(bidirectionalArcflagsRelaxed))\n",
        "print(round(bidirectionalArcflagsQuerytime))\n",
        "print()\n",
        "\n",
        "print(\"Bi. SKARF+\")\n",
        "print(round(bidirectionalSkarfPlusVisited))\n",
        "print(round(bidirectionalSkarfPlusRelaxed))\n",
        "print(round(bidirectionalSkarfPlusQuerytime))\n",
        "print()"
      ]
    },
    {
      "cell_type": "code",
      "execution_count": 7,
      "metadata": {
        "colab": {
          "base_uri": "https://localhost:8080/",
          "height": 611
        },
        "id": "6dpECI6cisv4",
        "outputId": "8046c14e-2c9c-4d70-fb64-574730274b73"
      },
      "outputs": [
        {
          "name": "stdout",
          "output_type": "stream",
          "text": [
            "skarfPlusVisited / arcflagsVisited\n",
            "0.7142961231148798\n",
            "skarfPlusRelaxed / arcflagsRelaxed\n",
            "0.7281397224545381\n",
            "skarfPlusQuerytime / arcflagsQuerytime\n",
            "0.6386233786089324\n",
            "\n",
            "bidirectionalSkarfPlusVisited / bidirectionalArcflagsVisited\n",
            "0.5080935179852302\n",
            "bidirectionalSkarfPlusRelaxed / bidirectionalArcflagsRelaxed\n",
            "0.5266710099120536\n",
            "bidirectionalSkarfPlusQuerytime / bidirectionalArcflagsQuerytime\n",
            "0.5056503882239528\n"
          ]
        },
        {
          "data": {
            "image/png": "[encoded data removed]",
            "text/plain": [
              "<Figure size 1008x432 with 1 Axes>"
            ]
          },
          "metadata": {
            "needs_background": "light"
          },
          "output_type": "display_data"
        }
      ],
      "source": [
        "matplotlib.rcParams.update({'font.size': 16})\n",
        "meanVisited = [arcflagsVisited, skarfPlusVisited, bidirectionalArcflagsVisited, bidirectionalSkarfPlusVisited]\n",
        "meanRelaxed = [arcflagsRelaxed, skarfPlusRelaxed, bidirectionalArcflagsRelaxed, bidirectionalSkarfPlusRelaxed]\n",
        "meanQuerytime = [arcflagsQuerytime, skarfPlusQuerytime, bidirectionalArcflagsQuerytime, bidirectionalSkarfPlusQuerytime]\n",
        "variants = [\"Arc-Flags\", \"SKARF+\", \"bid. Arc-Flags\", \"bid. SKARF+\"]\n",
        "\n",
        "# d = {'mean visited edges': meanVisited, 'mean relaxed edges': meanRelaxed}\n",
        "d = {'mean visited edges': meanVisited, 'mean relaxed edges': meanRelaxed, 'mean query time': meanQuerytime}\n",
        "\n",
        "means_df = pd.DataFrame(d, index=variants)\n",
        "\n",
        "# means_df.plot.bar(y=['mean visited edges', 'mean relaxed edges'], ylabel='number of edges', figsize=[14,6], rot=0)\n",
        "means_df.plot.bar(y=['mean visited edges', 'mean relaxed edges', 'mean query time'], ylabel='number of edges', figsize=[14,6], rot=0)\n",
        "\n",
        "\n",
        "print(\"skarfPlusVisited / arcflagsVisited\")\n",
        "print(skarfPlusVisited / arcflagsVisited)\n",
        "\n",
        "print(\"skarfPlusRelaxed / arcflagsRelaxed\")\n",
        "print(skarfPlusRelaxed / arcflagsRelaxed)\n",
        "\n",
        "print(\"skarfPlusQuerytime / arcflagsQuerytime\")\n",
        "print(skarfPlusQuerytime / arcflagsQuerytime)\n",
        "print()\n",
        "\n",
        "print(\"bidirectionalSkarfPlusVisited / bidirectionalArcflagsVisited\")\n",
        "print(bidirectionalSkarfPlusVisited / bidirectionalArcflagsVisited)\n",
        "\n",
        "print(\"bidirectionalSkarfPlusRelaxed / bidirectionalArcflagsRelaxed\")\n",
        "print(bidirectionalSkarfPlusRelaxed / bidirectionalArcflagsRelaxed)\n",
        "\n",
        "print(\"bidirectionalSkarfPlusQuerytime / bidirectionalArcflagsQuerytime\")\n",
        "print(bidirectionalSkarfPlusQuerytime / bidirectionalArcflagsQuerytime)"
      ]
    },
    {
      "cell_type": "code",
      "execution_count": null,
      "metadata": {
        "colab": {
          "base_uri": "https://localhost:8080/",
          "height": 313
        },
        "id": "2_OzYrYi6DnM",
        "outputId": "c698520e-6732-4417-d502-a2833413dad3"
      },
      "outputs": [
        {
          "data": {
            "text/plain": [
              "<matplotlib.axes._subplots.AxesSubplot at 0x7fe7b9f5ce50>"
            ]
          },
          "execution_count": 7,
          "metadata": {},
          "output_type": "execute_result"
        },
        {
          "data": {
            "image/png": "[encoded data removed]",
            "text/plain": [
              "<Figure size 1584x432 with 1 Axes>"
            ]
          },
          "metadata": {
            "needs_background": "light"
          },
          "output_type": "display_data"
        }
      ],
      "source": [
        "matplotlib.rcParams.update({'font.size': 16})\n",
        "meanVisited = [skarfVisited, arcflagsVisited, skarfPlusVisited, bidirectionalSkarfVisited, bidirectionalArcflagsVisited, bidirectionalSkarfPlusVisited]\n",
        "meanRelaxed = [skarfRelaxed, arcflagsRelaxed, skarfPlusRelaxed, bidirectionalSkarfRelaxed, bidirectionalArcflagsRelaxed, bidirectionalSkarfPlusRelaxed]\n",
        "variants = [\"SKARF\", \"Arc-Flags\", \"SKARF+\", \"bid. SKARF\", \"bid. Arc-Flags\", \"bid. SKARF+\"]\n",
        "\n",
        "d = {'mean visited edges': meanVisited, 'mean relaxed edges': meanRelaxed}\n",
        "\n",
        "means_df = pd.DataFrame(d, index=variants)\n",
        "\n",
        "means_df.plot.bar(y=['mean visited edges', 'mean relaxed edges'], ylabel='number of edges', figsize=[22,6], rot=0)"
      ]
    },
    {
      "cell_type": "code",
      "execution_count": null,
      "metadata": {
        "colab": {
          "base_uri": "https://localhost:8080/",
          "height": 515
        },
        "id": "ubSC5-HoBOSf",
        "outputId": "51d1afed-4bc2-4355-866e-966997c1bb58"
      },
      "outputs": [
        {
          "name": "stdout",
          "output_type": "stream",
          "text": [
            "skarfPlusVisited / arcflagsVisited\n",
            "0.7335959722116282\n",
            "skarfPlusRelaxed / arcflagsRelaxed\n",
            "0.7546690323600838\n",
            "bidirectionalSkarfPlusVisited / bidirectionalArcflagsVisited\n",
            "0.8574152803600623\n",
            "bidirectionalSkarfPlusRelaxed / bidirectionalArcflagsRelaxed\n",
            "0.8792289807324064\n"
          ]
        },
        {
          "data": {
            "image/png": "[encoded data removed]",
            "text/plain": [
              "<Figure size 1008x432 with 1 Axes>"
            ]
          },
          "metadata": {
            "needs_background": "light"
          },
          "output_type": "display_data"
        }
      ],
      "source": [
        "matplotlib.rcParams.update({'font.size': 16})\n",
        "meanVisited = [arcflagsVisited, skarfPlusVisited, bidirectionalArcflagsVisited, bidirectionalSkarfPlusVisited]\n",
        "meanRelaxed = [arcflagsRelaxed, skarfPlusRelaxed, bidirectionalArcflagsRelaxed, bidirectionalSkarfPlusRelaxed]\n",
        "variants = [\"Arc-Flags\", \"SKARF+\", \"bid. Arc-Flags\", \"bid. SKARF+\"]\n",
        "\n",
        "d = {'mean visited edges': meanVisited, 'mean relaxed edges': meanRelaxed}\n",
        "\n",
        "means_df = pd.DataFrame(d, index=variants)\n",
        "\n",
        "means_df.plot.bar(y=['mean visited edges', 'mean relaxed edges'], ylabel='number of edges', figsize=[14,6], rot=0)\n",
        "\n",
        "print(\"skarfPlusVisited / arcflagsVisited\")\n",
        "print(skarfPlusVisited / arcflagsVisited)\n",
        "\n",
        "print(\"skarfPlusRelaxed / arcflagsRelaxed\")\n",
        "print(skarfPlusRelaxed / arcflagsRelaxed)\n",
        "\n",
        "print(\"bidirectionalSkarfPlusVisited / bidirectionalArcflagsVisited\")\n",
        "print(bidirectionalSkarfPlusVisited / bidirectionalArcflagsVisited)\n",
        "\n",
        "print(\"bidirectionalSkarfPlusRelaxed / bidirectionalArcflagsRelaxed\")\n",
        "print(bidirectionalSkarfPlusRelaxed / bidirectionalArcflagsRelaxed)"
      ]
    },
    {
      "cell_type": "code",
      "execution_count": null,
      "metadata": {
        "colab": {
          "base_uri": "https://localhost:8080/",
          "height": 505
        },
        "id": "rFRn2_GFLIs4",
        "outputId": "790e75a6-f204-4638-bc7b-4dbbfaf8d4ba"
      },
      "outputs": [
        {
          "data": {
            "text/plain": [
              "<matplotlib.axes._subplots.AxesSubplot at 0x7f1c8f3fe690>"
            ]
          },
          "execution_count": 13,
          "metadata": {},
          "output_type": "execute_result"
        },
        {
          "data": {
            "image/png": "[encoded data removed]",
            "text/plain": [
              "<Figure size 1008x576 with 1 Axes>"
            ]
          },
          "metadata": {
            "needs_background": "light"
          },
          "output_type": "display_data"
        }
      ],
      "source": [
        "matplotlib.rcParams.update({'font.size': 16})\n",
        "meanVisited = [skarfVisited, bidirectionalSkarfVisited]\n",
        "meanRelaxed = [skarfRelaxed, bidirectionalSkarfRelaxed]\n",
        "variants = [\"SKARF\", \"bid. SKARF\"]\n",
        "\n",
        "d = {'mean visited edges': meanVisited, 'mean relaxed edges': meanRelaxed}\n",
        "\n",
        "means_df = pd.DataFrame(d, index=variants)\n",
        "\n",
        "means_df.plot.bar(y=['mean visited edges', 'mean relaxed edges'], ylabel='number of edges', figsize=[14,8], rot=0)"
      ]
    }
  ],
  "metadata": {
    "colab": {
      "collapsed_sections": [],
      "name": "skarf_comparison_v3.ipynb",
      "provenance": []
    },
    "kernelspec": {
      "display_name": "Python 3.8.10 64-bit",
      "language": "python",
      "name": "python3"
    },
    "language_info": {
      "codemirror_mode": {
        "name": "ipython",
        "version": 3
      },
      "file_extension": ".py",
      "mimetype": "text/x-python",
      "name": "python",
      "nbconvert_exporter": "python",
      "pygments_lexer": "ipython3",
      "version": "3.8.10"
    },
    "vscode": {
      "interpreter": {
        "hash": "916dbcbb3f70747c44a77c7bcd40155683ae19c65e1c03b4aa3499c5328201f1"
      }
    }
  },
  "nbformat": 4,
  "nbformat_minor": 0
}
